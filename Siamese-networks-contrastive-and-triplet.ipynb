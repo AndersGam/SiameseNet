{
 "cells": [
  {
   "cell_type": "code",
   "execution_count": 1,
   "metadata": {},
   "outputs": [],
   "source": [
    "# Fish face identification with Siamese Networks\n"
   ]
  },
  {
   "cell_type": "markdown",
   "metadata": {},
   "source": [
    "## Imports\n",
    "All the imports are defined here"
   ]
  },
  {
   "cell_type": "code",
   "execution_count": 1,
   "metadata": {},
   "outputs": [],
   "source": [
    "%matplotlib inline\n",
    "import torchvision\n",
    "import torchvision.datasets as dset\n",
    "import torchvision.transforms as transforms\n",
    "from torch.utils.data import DataLoader,Dataset\n",
    "import matplotlib.pyplot as plt\n",
    "import torchvision.utils\n",
    "import numpy as np\n",
    "import random\n",
    "from PIL import Image\n",
    "import torch\n",
    "from torch.autograd import Variable\n",
    "import PIL.ImageOps    \n",
    "import torch.nn as nn\n",
    "from torch import optim\n",
    "import torch.nn.functional as F\n",
    "import os\n",
    "from os import listdir\n",
    "import shutil\n"
   ]
  },
  {
   "cell_type": "markdown",
   "metadata": {},
   "source": [
    "## Helper functions\n",
    "For plotting graphs and showing images with text"
   ]
  },
  {
   "cell_type": "code",
   "execution_count": 2,
   "metadata": {},
   "outputs": [],
   "source": [
    "def imshow(img,text=None,should_save=False):\n",
    "    npimg = img.numpy()\n",
    "    plt.axis(\"off\")\n",
    "    if text:\n",
    "        plt.text(55, 8, text, style='italic',fontweight='bold',\n",
    "            bbox={'facecolor':'white', 'alpha':0.8, 'pad':10})\n",
    "    plt.imshow(np.transpose(npimg, (1, 2, 0)))\n",
    "    plt.show()    \n",
    "def show_plot(iteration,loss):\n",
    "    plt.plot(iteration,loss)\n",
    "    plt.show()"
   ]
  },
  {
   "cell_type": "markdown",
   "metadata": {},
   "source": [
    "## Configuration Class"
   ]
  },
  {
   "cell_type": "code",
   "execution_count": 22,
   "metadata": {},
   "outputs": [
    {
     "name": "stdout",
     "output_type": "stream",
     "text": [
      "Creating new folder with data split into body l, body r, head l and head r.\n"
     ]
    }
   ],
   "source": [
    "# Directory of files\n",
    "dir = \"SiameseNetworks/Siamese-fish/\"\n",
    "# Directory of dataset\n",
    "datasetdir = dir+\"wrasse/\"\n",
    "\n",
    "# Set name for new copy of dataset\n",
    "newdir = \"wrassefish\"\n",
    "\n",
    "body_r_dir = dir+newdir+\"/body/r/training/\"\n",
    "body_l_dir = dir+newdir+\"/body/l/training/\"\n",
    "head_r_dir = dir+newdir+\"/head/r/training/\"\n",
    "head_l_dir = dir+newdir+\"/head/l/training/\"\n",
    "\n",
    "if os.path.exists(dir+newdir):\n",
    "    print(dir+newdir,\" already exists. Delete or choose different name for newdir\")\n",
    "else:\n",
    "    print(\"Creating new folder with data split into body l, body r, head l and head r.\")\n",
    "    os.makedirs(body_r_dir)\n",
    "    os.makedirs(body_l_dir)\n",
    "    os.makedirs(head_r_dir)\n",
    "    os.makedirs(head_l_dir)\n",
    "    \n",
    "    for file in listdir(datasetdir+\"body/\"):\n",
    "        if not os.path.exists(body_l_dir+file.split(\"_\")[0]):\n",
    "            os.makedirs(body_l_dir+file.split(\"_\")[0])\n",
    "        if not os.path.exists(body_r_dir+file.split(\"_\")[0]):\n",
    "            os.makedirs(body_r_dir+file.split(\"_\")[0])\n",
    "        if \"l\" in file:\n",
    "            shutil.copy(datasetdir+\"body/\"+file,body_l_dir+file.split(\"_\")[0]+\"/\"+file)\n",
    "        if \"r\" in file:\n",
    "            shutil.copy(datasetdir+\"body/\"+file,body_r_dir+file.split(\"_\")[0]+\"/\"+file)\n",
    "    \n",
    "    for file in listdir(datasetdir+\"head/\"):\n",
    "        if not os.path.exists(head_l_dir+file.split(\"_\")[0]):\n",
    "            os.makedirs(head_l_dir+file.split(\"_\")[0])\n",
    "        if not os.path.exists(head_r_dir+file.split(\"_\")[0]):\n",
    "            os.makedirs(head_r_dir+file.split(\"_\")[0])\n",
    "        if \"l\" in file:\n",
    "            shutil.copy(datasetdir+\"head/\"+file,head_l_dir+file.split(\"_\")[0]+\"/\"+file)\n",
    "        if \"r\" in file:\n",
    "            shutil.copy(datasetdir+\"head/\"+file,head_r_dir+file.split(\"_\")[0]+\"/\"+file)\n",
    "\n",
    "\n",
    "# Moves random classes from the training data into a testing folder\n",
    "def split_dataset(traindir, amount, samples):\n",
    "    if os.path.exists(traindir+\"testing\"):\n",
    "       print(traindir+\" already created\")\n",
    "       return\n",
    "    subfolders = [ f.path for f in os.scandir(traindir+\"training/\") if f.is_dir() ]\n",
    "    for i in range(amount):\n",
    "        while True:\n",
    "            j = random.randint(1,len(subfolders)-1)\n",
    "            if len(os.listdir(subfolders[j])) == samples:\n",
    "                break\n",
    "        #print(traindir+\"testing/\"+subfolders[j].split(\"training/\")[1])\n",
    "        shutil.move(subfolders[j], traindir+\"testing/\"+subfolders[j].split(\"training/\")[1])\n",
    "        subfolders.pop(j)\n",
    "\n",
    "# Splits testing data into testing1, testing2, etc. to compare with a set amount of classes during classification        \n",
    "def split_testing(dir, in_each):\n",
    "    if os.path.exists(dir+\"testing1\"):\n",
    "        print(dir+\" already split\") \n",
    "        return\n",
    "    \n",
    "    subfolders = [ f.path for f in os.scandir(dir+\"testing\") if f.is_dir() ]\n",
    "    random.shuffle(subfolders)\n",
    "    index = 0\n",
    "    for i in range(int(len(subfolders)/in_each)):\n",
    "        os.makedirs(dir+\"testing\"+str(i+1))\n",
    "        for _ in range(in_each):\n",
    "            shutil.copytree(subfolders[index], dir+\"testing\"+str(i+1)+\"/\"+subfolders[index].split(\"testing/\")[1])\n",
    "            index+=1\n",
    "\n",
    "# Set amount of classes to test with\n",
    "amount = 100\n",
    "# Set amount of samples in each class to test on\n",
    "samples = 2\n",
    "# Set amount of classes to test one-shot classification on\n",
    "in_each = 10\n",
    "\n",
    "split_dataset(traindir=dir+newdir+\"/body/l/\", amount=amount, samples=samples)\n",
    "split_testing(dir=dir+newdir+\"/body/l/\", in_each=in_each)\n",
    "\n",
    "split_dataset(traindir=dir+newdir+\"/body/r/\", amount=amount, samples=samples)\n",
    "split_testing(dir=dir+newdir+\"/body/r/\", in_each=in_each)\n",
    "\n",
    "split_dataset(traindir=dir+newdir+\"/head/l/\", amount=amount, samples=samples)\n",
    "split_testing(dir=dir+newdir+\"/head/l/\", in_each=in_each)\n",
    "\n",
    "split_dataset(traindir=dir+newdir+\"/head/r/\", amount=amount, samples=samples)\n",
    "split_testing(dir=dir+newdir+\"/head/r/\", in_each=in_each)\n",
    "\n",
    "\n",
    "class Config():\n",
    "    training_dir = dir+newdir+\"/head/l/training/\"\n",
    "    testing_dir = dir+newdir+\"/head/l/testing\"\n",
    "    \n",
    "    train_batch_size = 64\n",
    "    train_number_epochs = 50"
   ]
  },
  {
   "cell_type": "markdown",
   "metadata": {},
   "source": [
    "## Custom Dataset Classes"
   ]
  },
  {
   "cell_type": "code",
   "execution_count": 23,
   "metadata": {},
   "outputs": [],
   "source": [
    "# For contrastive loss\n",
    "class SiameseNetworkContrastiveDataset(Dataset):\n",
    "    def __init__(self,imageFolderDataset,transform=None,should_invert=True):\n",
    "        self.imageFolderDataset = imageFolderDataset    \n",
    "        self.transform = transform\n",
    "        self.should_invert = should_invert\n",
    "        \n",
    "    def __getitem__(self,index):\n",
    "        img0_tuple = random.choice(self.imageFolderDataset.imgs)\n",
    "        #print(\"img0_tuple\", img0_tuple[0],img0_tuple[1])\n",
    "\n",
    "        #we need to make sure approx 50% of images are in the same class\n",
    "        should_get_same_class = random.randint(0,1) \n",
    "        #should_get_same_class = 1\n",
    "        if should_get_same_class:\n",
    "            while True:\n",
    "                #keep looping till the same class image is found\n",
    "                img1_tuple = random.choice(self.imageFolderDataset.imgs) \n",
    "                if img0_tuple[1]==img1_tuple[1]:\n",
    "                    break\n",
    "        else:\n",
    "            while True:\n",
    "                #keep looping till a different class image is found\n",
    "                img1_tuple = random.choice(self.imageFolderDataset.imgs) \n",
    "                if img0_tuple[1] !=img1_tuple[1]:\n",
    "                    break\n",
    "\n",
    "        img0 = Image.open(img0_tuple[0])\n",
    "        img1 = Image.open(img1_tuple[0])\n",
    "        img0 = img0.convert(\"L\")\n",
    "        img1 = img1.convert(\"L\")\n",
    "        \n",
    "        if self.should_invert:\n",
    "            img0 = PIL.ImageOps.invert(img0)\n",
    "            img1 = PIL.ImageOps.invert(img1)\n",
    "\n",
    "        if self.transform is not None:\n",
    "            img0 = self.transform(img0)\n",
    "            img1 = self.transform(img1)\n",
    "        \n",
    "        return img0, img1 , torch.from_numpy(np.array([int(img1_tuple[1]!=img0_tuple[1])],dtype=np.float32))\n",
    "    \n",
    "    def __len__(self):\n",
    "        return len(self.imageFolderDataset.imgs)\n",
    "\n",
    "\n",
    "# For triplet loss\n",
    "class SiameseNetworkTripletDataset(Dataset):\n",
    "    def __init__(self,imageFolderDataset,transform=None,should_invert=True):\n",
    "        self.imageFolderDataset = imageFolderDataset    \n",
    "        self.transform = transform\n",
    "        self.should_invert = should_invert\n",
    "        \n",
    "    def __getitem__(self,index):\n",
    "        anchor_tuple = random.choice(self.imageFolderDataset.imgs)\n",
    "        while True:\n",
    "            #keep looping till the same class image is found\n",
    "            positive_tuple = random.choice(self.imageFolderDataset.imgs) \n",
    "            if anchor_tuple[1]==positive_tuple[1]:\n",
    "                break\n",
    "                \n",
    "        while True:\n",
    "            #keep looping till a different class image is found \n",
    "            negative_tuple = random.choice(self.imageFolderDataset.imgs) \n",
    "            if anchor_tuple[1] !=negative_tuple[1]:\n",
    "                break\n",
    "\n",
    "        anchor_img = Image.open(anchor_tuple[0])\n",
    "        positive_img = Image.open(positive_tuple[0])\n",
    "        negative_img = Image.open(negative_tuple[0])\n",
    "        anchor_img = anchor_img.convert(\"L\")\n",
    "        positive_img = positive_img.convert(\"L\")\n",
    "        negative_img = negative_img.convert(\"L\")\n",
    "        \n",
    "        if self.should_invert:\n",
    "            anchor_img = PIL.ImageOps.invert(anchor_img)\n",
    "            positive_img = PIL.ImageOps.invert(positive_img)\n",
    "            negative_img = PIL.ImageOps.invert(negative_img)\n",
    "        if self.transform is not None:\n",
    "            anchor_img = self.transform(anchor_img)\n",
    "            positive_img = self.transform(positive_img)\n",
    "            negative_img = self.transform(negative_img)\n",
    "        \n",
    "        return anchor_img, positive_img, negative_img\n",
    "    \n",
    "    def __len__(self):\n",
    "        return len(self.imageFolderDataset.imgs)\n",
    "\n",
    "    \n",
    "# For testing same / not same classification accuracy\n",
    "class SiameseNetworkTestingDataset(Dataset):\n",
    "    def __init__(self,imageFolderDataset,transform=None,should_invert=True):\n",
    "        self.imageFolderDataset = imageFolderDataset\n",
    "        self.transform = transform\n",
    "        self.should_invert = should_invert\n",
    "        self.number = 0\n",
    "        \n",
    "    def __getitem__(self,index):\n",
    "        img0_tuple = random.choice(self.imageFolderDataset.imgs)\n",
    "        #we need to make sure approx 50% of images are in the same class\n",
    "        should_get_same_class = random.randint(0,1)         \n",
    "        if should_get_same_class:\n",
    "            while True:\n",
    "                #keep looping till the same class image is found\n",
    "                img1_tuple = random.choice(self.imageFolderDataset.imgs)\n",
    "                if img0_tuple[1]==img1_tuple[1]:\n",
    "                    break\n",
    "        else:\n",
    "            while True:\n",
    "                #keep looping till a different class image is found\n",
    "                img1_tuple = random.choice(self.imageFolderDataset.imgs)\n",
    "                if img0_tuple[1] !=img1_tuple[1]:\n",
    "                    break\n",
    "        \n",
    "        img0 = Image.open(img0_tuple[0])\n",
    "        img1 = Image.open(img1_tuple[0])\n",
    "        img0 = img0.convert(\"L\")\n",
    "        img1 = img1.convert(\"L\")\n",
    "        \n",
    "        if self.should_invert:\n",
    "            img0 = PIL.ImageOps.invert(img0)\n",
    "            img1 = PIL.ImageOps.invert(img1)\n",
    "        if self.transform is not None:\n",
    "            img0 = self.transform(img0)\n",
    "            img1 = self.transform(img1)\n",
    "        \n",
    "        return img0, img1 , torch.from_numpy(np.array([int(img1_tuple[1]!=img0_tuple[1])],dtype=np.float32))\n",
    "    \n",
    "    def __len__(self):\n",
    "        return len(self.imageFolderDataset.imgs)\n",
    "    \n",
    "    \n",
    "# For testing n-way classification\n",
    "class SiameseNetworkValidationDataset(Dataset):\n",
    "    def __init__(self,imageFolderDataset,x0Index,transform=None,should_invert=True):\n",
    "    #def __init__(self,imageFolderDataset,transform=None,should_invert=True):\n",
    "        self.imageFolderDataset = imageFolderDataset\n",
    "        self.x0Index = x0Index\n",
    "        self.transform = transform\n",
    "        self.should_invert = should_invert\n",
    "        self.number = 0\n",
    "        \n",
    "    def __getitem__(self,index):\n",
    "        img0_tuple = self.imageFolderDataset.imgs[self.x0Index]\n",
    "        img1_tuple = self.imageFolderDataset.imgs[index]\n",
    "        \n",
    "        img0 = Image.open(img0_tuple[0])\n",
    "        img1 = Image.open(img1_tuple[0])\n",
    "        img0 = img0.convert(\"L\")\n",
    "        img1 = img1.convert(\"L\")\n",
    "        \n",
    "        if self.should_invert:\n",
    "            img0 = PIL.ImageOps.invert(img0)\n",
    "            img1 = PIL.ImageOps.invert(img1)\n",
    "\n",
    "        if self.transform is not None:\n",
    "            img0 = self.transform(img0)\n",
    "            img1 = self.transform(img1)\n",
    "        \n",
    "        \n",
    "        return img0, img1 , torch.from_numpy(np.array([int(img1_tuple[1]!=img0_tuple[1])],dtype=np.float32))\n",
    "    \n",
    "    def __len__(self):\n",
    "        return len(self.imageFolderDataset.imgs)"
   ]
  },
  {
   "cell_type": "markdown",
   "metadata": {},
   "source": [
    "## Using Image Folder Dataset"
   ]
  },
  {
   "cell_type": "code",
   "execution_count": 24,
   "metadata": {},
   "outputs": [],
   "source": [
    "folder_dataset = dset.ImageFolder(root=Config.training_dir)\n"
   ]
  },
  {
   "cell_type": "code",
   "execution_count": 25,
   "metadata": {},
   "outputs": [],
   "source": [
    "# Contrastive\n",
    "siamese_dataset_contrastive = SiameseNetworkContrastiveDataset(imageFolderDataset=folder_dataset,\n",
    "                                        transform=transforms.Compose([transforms.Resize((100,100)),\n",
    "                                                                      transforms.ToTensor()\n",
    "                                                                      ])\n",
    "                                       ,should_invert=False)\n",
    "\n",
    "# Triplet\n",
    "siamese_dataset_triplet = SiameseNetworkTripletDataset(imageFolderDataset=folder_dataset,\n",
    "                                        transform=transforms.Compose([transforms.Resize((100,100)),\n",
    "                                                                      transforms.ToTensor()\n",
    "                                                                      ])\n",
    "                                       ,should_invert=False)\n"
   ]
  },
  {
   "cell_type": "markdown",
   "metadata": {},
   "source": [
    "## Visualising some of the data\n",
    "The top row and the bottom row of any column is one pair. The 0s and 1s correspond to the column of the image.\n",
    "1 indiciates dissimilar, and 0 indicates similar."
   ]
  },
  {
   "cell_type": "code",
   "execution_count": 26,
   "metadata": {},
   "outputs": [
    {
     "name": "stdout",
     "output_type": "stream",
     "text": [
      "Contrastive data example\n"
     ]
    },
    {
     "data": {
      "image/png": "[encoded data removed]",
      "text/plain": [
       "<Figure size 432x288 with 1 Axes>"
      ]
     },
     "metadata": {},
     "output_type": "display_data"
    },
    {
     "name": "stdout",
     "output_type": "stream",
     "text": [
      "Triplet data example\n"
     ]
    },
    {
     "data": {
      "image/png": "[encoded data removed]",
      "text/plain": [
       "<Figure size 432x288 with 1 Axes>"
      ]
     },
     "metadata": {},
     "output_type": "display_data"
    }
   ],
   "source": [
    "# Contrastive loss\n",
    "vis_dataloader_contrastive = DataLoader(siamese_dataset_contrastive,\n",
    "                        shuffle=True,\n",
    "                        num_workers=8,\n",
    "                        batch_size=8)\n",
    "dataiter = iter(vis_dataloader_contrastive)\n",
    "print(\"Contrastive data example\")\n",
    "\n",
    "example_batch = next(dataiter)\n",
    "concatenated = torch.cat((example_batch[0],example_batch[1]),0)\n",
    "imshow(torchvision.utils.make_grid(concatenated))\n",
    "\n",
    "# Triplet loss\n",
    "vis_dataloader_triplet = DataLoader(siamese_dataset_triplet,\n",
    "                        shuffle=True,\n",
    "                        num_workers=8,\n",
    "                        batch_size=8)\n",
    "dataiter_triplet = iter(vis_dataloader_triplet)\n",
    "print(\"Triplet data example\")\n",
    "\n",
    "example_batch_triplet = next(dataiter_triplet)\n",
    "concatenated_triplet = torch.cat((example_batch_triplet[0],example_batch_triplet[1],example_batch_triplet[2]),0)\n",
    "imshow(torchvision.utils.make_grid(concatenated_triplet))"
   ]
  },
  {
   "cell_type": "markdown",
   "metadata": {
    "collapsed": true
   },
   "source": [
    "## Neural Net Definition"
   ]
  },
  {
   "cell_type": "code",
   "execution_count": 27,
   "metadata": {},
   "outputs": [],
   "source": [
    "class SiameseNetworkContrastive(nn.Module):\n",
    "    def __init__(self):\n",
    "        super(SiameseNetworkContrastive, self).__init__()\n",
    "        self.cnn1 = nn.Sequential(\n",
    "            nn.ReflectionPad2d(1),\n",
    "            nn.Conv2d(1, 4, kernel_size=3),\n",
    "            # Rectified linear unit (ReLU)\n",
    "            nn.ReLU(inplace=True),\n",
    "            nn.BatchNorm2d(4),\n",
    "            \n",
    "            nn.ReflectionPad2d(1),\n",
    "            nn.Conv2d(4, 8, kernel_size=3),\n",
    "            nn.ReLU(inplace=True),\n",
    "            nn.BatchNorm2d(8),\n",
    "\n",
    "\n",
    "            nn.ReflectionPad2d(1),\n",
    "            nn.Conv2d(8, 8, kernel_size=3),\n",
    "            nn.ReLU(inplace=True),\n",
    "            nn.BatchNorm2d(8),\n",
    "        )\n",
    "\n",
    "        self.fc1 = nn.Sequential(\n",
    "            nn.Linear(8*100*100, 500),\n",
    "            nn.ReLU(inplace=True),\n",
    "\n",
    "            nn.Linear(500, 500),\n",
    "            nn.ReLU(inplace=True),\n",
    "\n",
    "            nn.Linear(500, 25))\n",
    "\n",
    "    def forward_once(self, x):\n",
    "        output = self.cnn1(x)\n",
    "        output = output.view(output.size()[0], -1)\n",
    "        output = self.fc1(output)\n",
    "        return output\n",
    "\n",
    "    def forward(self, input1, input2):\n",
    "        output1 = self.forward_once(input1)\n",
    "        output2 = self.forward_once(input2)\n",
    "        return output1, output2\n",
    "\n"
   ]
  },
  {
   "cell_type": "markdown",
   "metadata": {},
   "source": [
    "## Triplet loss variant"
   ]
  },
  {
   "cell_type": "code",
   "execution_count": 28,
   "metadata": {},
   "outputs": [],
   "source": [
    "class SiameseNetworkTriplet(nn.Module):\n",
    "    def __init__(self):\n",
    "        super(SiameseNetworkTriplet, self).__init__()\n",
    "        self.cnn1 = nn.Sequential(\n",
    "            nn.ReflectionPad2d(1),\n",
    "            nn.Conv2d(1, 4, kernel_size=3),\n",
    "            # Rectified linear unit (ReLU)\n",
    "            nn.ReLU(inplace=True),\n",
    "            nn.BatchNorm2d(4),\n",
    "            \n",
    "            nn.ReflectionPad2d(1),\n",
    "            nn.Conv2d(4, 8, kernel_size=3),\n",
    "            nn.ReLU(inplace=True),\n",
    "            nn.BatchNorm2d(8),\n",
    "\n",
    "\n",
    "            nn.ReflectionPad2d(1),\n",
    "            nn.Conv2d(8, 8, kernel_size=3),\n",
    "            nn.ReLU(inplace=True),\n",
    "            nn.BatchNorm2d(8),\n",
    "\n",
    "\n",
    "        )\n",
    "\n",
    "        self.fc1 = nn.Sequential(\n",
    "            nn.Linear(8*100*100, 500),\n",
    "            nn.ReLU(inplace=True),\n",
    "\n",
    "            nn.Linear(500, 500),\n",
    "            nn.ReLU(inplace=True),\n",
    "\n",
    "            nn.Linear(500, 25))\n",
    "\n",
    "    def forward_once(self, x):\n",
    "        output = self.cnn1(x)\n",
    "        output = output.view(output.size()[0], -1)\n",
    "        output = self.fc1(output)\n",
    "        return output\n",
    "    \n",
    "    def forward(self, input1, input2, input3):\n",
    "        output1 = self.forward_once(input1)\n",
    "        output2 = self.forward_once(input2)\n",
    "        output3 = self.forward_once(input3)\n",
    "        return output1, output2, output3\n"
   ]
  },
  {
   "cell_type": "code",
   "execution_count": 29,
   "metadata": {},
   "outputs": [],
   "source": [
    "class ContrastiveLoss(torch.nn.Module):\n",
    "    \"\"\"\n",
    "    Contrastive loss function.\n",
    "    Based on: http://yann.lecun.com/exdb/publis/pdf/hadsell-chopra-lecun-06.pdf\n",
    "    \"\"\"\n",
    "\n",
    "    def __init__(self, margin=2.0):\n",
    "        super(ContrastiveLoss, self).__init__()\n",
    "        self.margin = margin\n",
    "\n",
    "    def forward(self, output1, output2, label):\n",
    "        euclidean_distance = F.pairwise_distance(output1, output2, keepdim = True)\n",
    "        loss_contrastive = torch.mean((1-label) * torch.pow(euclidean_distance, 2) +\n",
    "                                      (label) * torch.pow(torch.clamp(self.margin - euclidean_distance, min=0.0), 2))\n",
    "\n",
    "        return loss_contrastive\n",
    "    \n",
    "class TripletLoss(torch.nn.Module):\n",
    "    \"\"\"\n",
    "    Triplet loss function\n",
    "    \"\"\"\n",
    "    def __init__(self, margin=1.0, alpha=0.2):\n",
    "        super(TripletLoss, self).__init__()\n",
    "        self.margin = margin\n",
    "        self.alpha = alpha\n",
    "    \n",
    "    \n",
    "    def forward(self, anchor, positive, negative):\n",
    "        distance_positive = F.pairwise_distance(anchor, positive, keepdim = True)\n",
    "        distance_negative = F.pairwise_distance(anchor, negative, keepdim = True)\n",
    "        losses = torch.relu(distance_positive-distance_negative+self.margin)\n",
    "        \n",
    "        return losses.mean()"
   ]
  },
  {
   "cell_type": "markdown",
   "metadata": {},
   "source": [
    "## Training"
   ]
  },
  {
   "cell_type": "code",
   "execution_count": 30,
   "metadata": {},
   "outputs": [],
   "source": [
    "# Contrastive\n",
    "train_dataloader_contrastive = DataLoader(siamese_dataset_contrastive,\n",
    "                        shuffle=True,\n",
    "                        num_workers=8,\n",
    "                        batch_size=Config.train_batch_size)\n",
    "\n",
    "# Triplet\n",
    "train_dataloader_triplet = DataLoader(siamese_dataset_triplet,\n",
    "                        shuffle=True,\n",
    "                        num_workers=8,\n",
    "                        batch_size=Config.train_batch_size)"
   ]
  },
  {
   "cell_type": "code",
   "execution_count": 31,
   "metadata": {},
   "outputs": [],
   "source": [
    "#Contrastive\n",
    "net_contrastive = SiameseNetworkContrastive()\n",
    "criterion_contrastive = ContrastiveLoss()\n",
    "optimizer = optim.Adam(net_contrastive.parameters(),lr = 0.0005 )"
   ]
  },
  {
   "cell_type": "code",
   "execution_count": 32,
   "metadata": {},
   "outputs": [],
   "source": [
    "# Triplet\n",
    "net_triplet = SiameseNetworkTriplet()\n",
    "criterion_triplet = TripletLoss()\n",
    "optimizer = optim.Adam(net_triplet.parameters(), lr = 0.00005 )"
   ]
  },
  {
   "cell_type": "code",
   "execution_count": 33,
   "metadata": {},
   "outputs": [
    {
     "name": "stdout",
     "output_type": "stream",
     "text": [
      "Epoch number 0\n Current loss 0.8418310880661011\n\n"
     ]
    },
    {
     "name": "stdout",
     "output_type": "stream",
     "text": [
      "Epoch number 0\n Current loss 0.5832346081733704\n\n"
     ]
    },
    {
     "name": "stdout",
     "output_type": "stream",
     "text": [
      "Epoch number 1\n Current loss 0.49283647537231445\n\n"
     ]
    },
    {
     "name": "stdout",
     "output_type": "stream",
     "text": [
      "Epoch number 1\n Current loss 0.5968875885009766\n\n"
     ]
    },
    {
     "name": "stdout",
     "output_type": "stream",
     "text": [
      "Epoch number 2\n Current loss 0.4072849154472351\n\n"
     ]
    },
    {
     "name": "stdout",
     "output_type": "stream",
     "text": [
      "Epoch number 2\n Current loss 0.388210266828537\n\n"
     ]
    },
    {
     "name": "stdout",
     "output_type": "stream",
     "text": [
      "Epoch number 3\n Current loss 0.27713698148727417\n\n"
     ]
    },
    {
     "name": "stdout",
     "output_type": "stream",
     "text": [
      "Epoch number 3\n Current loss 0.13082163035869598\n\n"
     ]
    },
    {
     "name": "stdout",
     "output_type": "stream",
     "text": [
      "Epoch number 4\n Current loss 0.21031108498573303\n\n"
     ]
    },
    {
     "name": "stdout",
     "output_type": "stream",
     "text": [
      "Epoch number 4\n Current loss 0.19056063890457153\n\n"
     ]
    },
    {
     "name": "stdout",
     "output_type": "stream",
     "text": [
      "Epoch number 5\n Current loss 0.26085883378982544\n\n"
     ]
    },
    {
     "name": "stdout",
     "output_type": "stream",
     "text": [
      "Epoch number 5\n Current loss 0.15544824302196503\n\n"
     ]
    },
    {
     "name": "stdout",
     "output_type": "stream",
     "text": [
      "Epoch number 6\n Current loss 0.217244952917099\n\n"
     ]
    },
    {
     "name": "stdout",
     "output_type": "stream",
     "text": [
      "Epoch number 6\n Current loss 0.2093631625175476\n\n"
     ]
    },
    {
     "name": "stdout",
     "output_type": "stream",
     "text": [
      "Epoch number 7\n Current loss 0.13687729835510254\n\n"
     ]
    },
    {
     "name": "stdout",
     "output_type": "stream",
     "text": [
      "Epoch number 7\n Current loss 0.16597262024879456\n\n"
     ]
    },
    {
     "name": "stdout",
     "output_type": "stream",
     "text": [
      "Epoch number 8\n Current loss 0.1298765242099762\n\n"
     ]
    },
    {
     "name": "stdout",
     "output_type": "stream",
     "text": [
      "Epoch number 8\n Current loss 0.06704851239919662\n\n"
     ]
    },
    {
     "name": "stdout",
     "output_type": "stream",
     "text": [
      "Epoch number 9\n Current loss 0.07407169044017792\n\n"
     ]
    },
    {
     "name": "stdout",
     "output_type": "stream",
     "text": [
      "Epoch number 9\n Current loss 0.08595633506774902\n\n"
     ]
    },
    {
     "name": "stdout",
     "output_type": "stream",
     "text": [
      "Epoch number 10\n Current loss 0.17627763748168945\n\n"
     ]
    },
    {
     "name": "stdout",
     "output_type": "stream",
     "text": [
      "Epoch number 10\n Current loss 0.12504373490810394\n\n"
     ]
    },
    {
     "name": "stdout",
     "output_type": "stream",
     "text": [
      "Epoch number 11\n Current loss 0.08603185415267944\n\n"
     ]
    },
    {
     "name": "stdout",
     "output_type": "stream",
     "text": [
      "Epoch number 11\n Current loss 0.09140051156282425\n\n"
     ]
    },
    {
     "name": "stdout",
     "output_type": "stream",
     "text": [
      "Epoch number 12\n Current loss 0.06153059005737305\n\n"
     ]
    },
    {
     "name": "stdout",
     "output_type": "stream",
     "text": [
      "Epoch number 12\n Current loss 0.11841702461242676\n\n"
     ]
    },
    {
     "name": "stdout",
     "output_type": "stream",
     "text": [
      "Epoch number 13\n Current loss 0.030304860323667526\n\n"
     ]
    },
    {
     "name": "stdout",
     "output_type": "stream",
     "text": [
      "Epoch number 13\n Current loss 0.15324874222278595\n\n"
     ]
    },
    {
     "name": "stdout",
     "output_type": "stream",
     "text": [
      "Epoch number 14\n Current loss 0.05153052881360054\n\n"
     ]
    },
    {
     "name": "stdout",
     "output_type": "stream",
     "text": [
      "Epoch number 14\n Current loss 0.04293567314743996\n\n"
     ]
    },
    {
     "name": "stdout",
     "output_type": "stream",
     "text": [
      "Epoch number 15\n Current loss 0.07919174432754517\n\n"
     ]
    },
    {
     "name": "stdout",
     "output_type": "stream",
     "text": [
      "Epoch number 15\n Current loss 0.03543708845973015\n\n"
     ]
    },
    {
     "name": "stdout",
     "output_type": "stream",
     "text": [
      "Epoch number 16\n Current loss 0.04814135283231735\n\n"
     ]
    },
    {
     "name": "stdout",
     "output_type": "stream",
     "text": [
      "Epoch number 16\n Current loss 0.0947532206773758\n\n"
     ]
    },
    {
     "name": "stdout",
     "output_type": "stream",
     "text": [
      "Epoch number 17\n Current loss 0.023859191685914993\n\n"
     ]
    },
    {
     "name": "stdout",
     "output_type": "stream",
     "text": [
      "Epoch number 17\n Current loss 0.07096906006336212\n\n"
     ]
    },
    {
     "name": "stdout",
     "output_type": "stream",
     "text": [
      "Epoch number 18\n Current loss 0.017044059932231903\n\n"
     ]
    },
    {
     "name": "stdout",
     "output_type": "stream",
     "text": [
      "Epoch number 18\n Current loss 0.04781167209148407\n\n"
     ]
    },
    {
     "name": "stdout",
     "output_type": "stream",
     "text": [
      "Epoch number 19\n Current loss 0.09967254102230072\n\n"
     ]
    },
    {
     "name": "stdout",
     "output_type": "stream",
     "text": [
      "Epoch number 19\n Current loss 0.01849103718996048\n\n"
     ]
    },
    {
     "name": "stdout",
     "output_type": "stream",
     "text": [
      "Epoch number 20\n Current loss 0.013250738382339478\n\n"
     ]
    },
    {
     "name": "stdout",
     "output_type": "stream",
     "text": [
      "Epoch number 20\n Current loss 0.039707865566015244\n\n"
     ]
    },
    {
     "name": "stdout",
     "output_type": "stream",
     "text": [
      "Epoch number 21\n Current loss 0.03418005630373955\n\n"
     ]
    },
    {
     "name": "stdout",
     "output_type": "stream",
     "text": [
      "Epoch number 21\n Current loss 0.0033777430653572083\n\n"
     ]
    },
    {
     "name": "stdout",
     "output_type": "stream",
     "text": [
      "Epoch number 22\n Current loss 0.03151509910821915\n\n"
     ]
    },
    {
     "name": "stdout",
     "output_type": "stream",
     "text": [
      "Epoch number 22\n Current loss 0.040200140327215195\n\n"
     ]
    },
    {
     "name": "stdout",
     "output_type": "stream",
     "text": [
      "Epoch number 23\n Current loss 0.0\n\n"
     ]
    },
    {
     "name": "stdout",
     "output_type": "stream",
     "text": [
      "Epoch number 23\n Current loss 0.0\n\n"
     ]
    },
    {
     "name": "stdout",
     "output_type": "stream",
     "text": [
      "Epoch number 24\n Current loss 0.025410816073417664\n\n"
     ]
    },
    {
     "name": "stdout",
     "output_type": "stream",
     "text": [
      "Epoch number 24\n Current loss 0.0356161892414093\n\n"
     ]
    },
    {
     "name": "stdout",
     "output_type": "stream",
     "text": [
      "Epoch number 25\n Current loss 0.021936379373073578\n\n"
     ]
    },
    {
     "name": "stdout",
     "output_type": "stream",
     "text": [
      "Epoch number 25\n Current loss 0.049887098371982574\n\n"
     ]
    },
    {
     "name": "stdout",
     "output_type": "stream",
     "text": [
      "Epoch number 26\n Current loss 0.016628418117761612\n\n"
     ]
    },
    {
     "name": "stdout",
     "output_type": "stream",
     "text": [
      "Epoch number 26\n Current loss 0.08385959267616272\n\n"
     ]
    },
    {
     "name": "stdout",
     "output_type": "stream",
     "text": [
      "Epoch number 27\n Current loss 0.09338170289993286\n\n"
     ]
    },
    {
     "name": "stdout",
     "output_type": "stream",
     "text": [
      "Epoch number 27\n Current loss 0.08315578103065491\n\n"
     ]
    },
    {
     "name": "stdout",
     "output_type": "stream",
     "text": [
      "Epoch number 28\n Current loss 0.002084638923406601\n\n"
     ]
    },
    {
     "name": "stdout",
     "output_type": "stream",
     "text": [
      "Epoch number 28\n Current loss 0.002663247287273407\n\n"
     ]
    },
    {
     "name": "stdout",
     "output_type": "stream",
     "text": [
      "Epoch number 29\n Current loss 0.02216188982129097\n\n"
     ]
    },
    {
     "name": "stdout",
     "output_type": "stream",
     "text": [
      "Epoch number 29\n Current loss 0.05276202782988548\n\n"
     ]
    },
    {
     "name": "stdout",
     "output_type": "stream",
     "text": [
      "Epoch number 30\n Current loss 0.13431893289089203\n\n"
     ]
    },
    {
     "name": "stdout",
     "output_type": "stream",
     "text": [
      "Epoch number 30\n Current loss 0.05224205553531647\n\n"
     ]
    },
    {
     "name": "stdout",
     "output_type": "stream",
     "text": [
      "Epoch number 31\n Current loss 0.021029755473136902\n\n"
     ]
    },
    {
     "name": "stdout",
     "output_type": "stream",
     "text": [
      "Epoch number 31\n Current loss 0.021238982677459717\n\n"
     ]
    },
    {
     "name": "stdout",
     "output_type": "stream",
     "text": [
      "Epoch number 32\n Current loss 0.0\n\n"
     ]
    },
    {
     "name": "stdout",
     "output_type": "stream",
     "text": [
      "Epoch number 32\n Current loss 0.0132097527384758\n\n"
     ]
    },
    {
     "name": "stdout",
     "output_type": "stream",
     "text": [
      "Epoch number 33\n Current loss 0.022042516618967056\n\n"
     ]
    },
    {
     "name": "stdout",
     "output_type": "stream",
     "text": [
      "Epoch number 33\n Current loss 0.006592795252799988\n\n"
     ]
    },
    {
     "name": "stdout",
     "output_type": "stream",
     "text": [
      "Epoch number 34\n Current loss 0.02797166258096695\n\n"
     ]
    },
    {
     "name": "stdout",
     "output_type": "stream",
     "text": [
      "Epoch number 34\n Current loss 0.023460589349269867\n\n"
     ]
    },
    {
     "name": "stdout",
     "output_type": "stream",
     "text": [
      "Epoch number 35\n Current loss 0.0013397503644227982\n\n"
     ]
    },
    {
     "name": "stdout",
     "output_type": "stream",
     "text": [
      "Epoch number 35\n Current loss 0.001514378935098648\n\n"
     ]
    },
    {
     "name": "stdout",
     "output_type": "stream",
     "text": [
      "Epoch number 36\n Current loss 0.007634781301021576\n\n"
     ]
    },
    {
     "name": "stdout",
     "output_type": "stream",
     "text": [
      "Epoch number 36\n Current loss 0.0856756791472435\n\n"
     ]
    },
    {
     "name": "stdout",
     "output_type": "stream",
     "text": [
      "Epoch number 37\n Current loss 0.021891094744205475\n\n"
     ]
    },
    {
     "name": "stdout",
     "output_type": "stream",
     "text": [
      "Epoch number 37\n Current loss 0.008225493133068085\n\n"
     ]
    },
    {
     "name": "stdout",
     "output_type": "stream",
     "text": [
      "Epoch number 38\n Current loss 0.018370669335126877\n\n"
     ]
    },
    {
     "name": "stdout",
     "output_type": "stream",
     "text": [
      "Epoch number 38\n Current loss 0.027442514896392822\n\n"
     ]
    },
    {
     "name": "stdout",
     "output_type": "stream",
     "text": [
      "Epoch number 39\n Current loss 0.0148748978972435\n\n"
     ]
    },
    {
     "name": "stdout",
     "output_type": "stream",
     "text": [
      "Epoch number 39\n Current loss 0.00809621810913086\n\n"
     ]
    },
    {
     "name": "stdout",
     "output_type": "stream",
     "text": [
      "Epoch number 40\n Current loss 0.031906623393297195\n\n"
     ]
    },
    {
     "name": "stdout",
     "output_type": "stream",
     "text": [
      "Epoch number 40\n Current loss 0.019904375076293945\n\n"
     ]
    },
    {
     "name": "stdout",
     "output_type": "stream",
     "text": [
      "Epoch number 41\n Current loss 0.0038476325571537018\n\n"
     ]
    },
    {
     "name": "stdout",
     "output_type": "stream",
     "text": [
      "Epoch number 41\n Current loss 0.008944891393184662\n\n"
     ]
    },
    {
     "name": "stdout",
     "output_type": "stream",
     "text": [
      "Epoch number 42\n Current loss 0.0019381418824195862\n\n"
     ]
    },
    {
     "name": "stdout",
     "output_type": "stream",
     "text": [
      "Epoch number 42\n Current loss 0.02454715222120285\n\n"
     ]
    },
    {
     "name": "stdout",
     "output_type": "stream",
     "text": [
      "Epoch number 43\n Current loss 0.014099996536970139\n\n"
     ]
    },
    {
     "name": "stdout",
     "output_type": "stream",
     "text": [
      "Epoch number 43\n Current loss 0.019061703234910965\n\n"
     ]
    },
    {
     "name": "stdout",
     "output_type": "stream",
     "text": [
      "Epoch number 44\n Current loss 0.018549159169197083\n\n"
     ]
    },
    {
     "name": "stdout",
     "output_type": "stream",
     "text": [
      "Epoch number 44\n Current loss 0.00373956561088562\n\n"
     ]
    },
    {
     "name": "stdout",
     "output_type": "stream",
     "text": [
      "Epoch number 45\n Current loss 0.0\n\n"
     ]
    },
    {
     "name": "stdout",
     "output_type": "stream",
     "text": [
      "Epoch number 45\n Current loss 0.007950272411108017\n\n"
     ]
    },
    {
     "name": "stdout",
     "output_type": "stream",
     "text": [
      "Epoch number 46\n Current loss 0.05923403799533844\n\n"
     ]
    },
    {
     "name": "stdout",
     "output_type": "stream",
     "text": [
      "Epoch number 46\n Current loss 0.0\n\n"
     ]
    },
    {
     "name": "stdout",
     "output_type": "stream",
     "text": [
      "Epoch number 47\n Current loss 0.013530842959880829\n\n"
     ]
    },
    {
     "name": "stdout",
     "output_type": "stream",
     "text": [
      "Epoch number 47\n Current loss 0.03220765292644501\n\n"
     ]
    },
    {
     "name": "stdout",
     "output_type": "stream",
     "text": [
      "Epoch number 48\n Current loss 0.025210663676261902\n\n"
     ]
    },
    {
     "name": "stdout",
     "output_type": "stream",
     "text": [
      "Epoch number 48\n Current loss 0.0\n\n"
     ]
    },
    {
     "name": "stdout",
     "output_type": "stream",
     "text": [
      "Epoch number 49\n Current loss 0.009474467486143112\n\n"
     ]
    },
    {
     "name": "stdout",
     "output_type": "stream",
     "text": [
      "Epoch number 49\n Current loss 0.0\n\n"
     ]
    },
    {
     "data": {
      "image/png": "[encoded data removed]",
      "text/plain": [
       "<Figure size 432x288 with 1 Axes>"
      ]
     },
     "metadata": {},
     "output_type": "display_data"
    }
   ],
   "source": [
    "# Triplet\n",
    "counter_triplet = []\n",
    "loss_history_triplet = [] \n",
    "iteration_number_triplet = 0\n",
    "\n",
    "for epoch in range(0,Config.train_number_epochs):\n",
    "    for i, data in enumerate(train_dataloader_triplet,0):\n",
    "        anchor_img, positive_img, negative_img = data\n",
    "\n",
    "        optimizer.zero_grad()\n",
    "        output1,output2,output3 = net_triplet(anchor_img,positive_img,negative_img)\n",
    "        loss_triplet = criterion_triplet(output1,output2,output3)\n",
    "        loss_triplet.backward()\n",
    "        optimizer.step()\n",
    "        if i %10 == 0 :\n",
    "            print(\"Epoch number {}\\n Current loss {}\\n\".format(epoch,loss_triplet.item()))\n",
    "            iteration_number_triplet +=10\n",
    "            counter_triplet.append(iteration_number_triplet)\n",
    "            loss_history_triplet.append(loss_triplet.item())\n",
    "show_plot(counter_triplet,loss_history_triplet)"
   ]
  },
  {
   "cell_type": "code",
   "execution_count": 239,
   "metadata": {
    "scrolled": true
   },
   "outputs": [
    {
     "name": "stdout",
     "output_type": "stream",
     "text": [
      "Epoch number 0\n Current loss 1.3631733655929565\n\n"
     ]
    },
    {
     "name": "stdout",
     "output_type": "stream",
     "text": [
      "Epoch number 0\n Current loss 5.513466835021973\n\n"
     ]
    },
    {
     "name": "stdout",
     "output_type": "stream",
     "text": [
      "Epoch number 1\n Current loss 8.046429634094238\n\n"
     ]
    },
    {
     "name": "stdout",
     "output_type": "stream",
     "text": [
      "Epoch number 1\n Current loss 1.4043209552764893\n\n"
     ]
    },
    {
     "name": "stdout",
     "output_type": "stream",
     "text": [
      "Epoch number 2\n Current loss 2.297057867050171\n\n"
     ]
    },
    {
     "name": "stdout",
     "output_type": "stream",
     "text": [
      "Epoch number 2\n Current loss 0.7896697521209717\n\n"
     ]
    },
    {
     "name": "stdout",
     "output_type": "stream",
     "text": [
      "Epoch number 3\n Current loss 0.8442270159721375\n\n"
     ]
    },
    {
     "name": "stdout",
     "output_type": "stream",
     "text": [
      "Epoch number 3\n Current loss 1.0003936290740967\n\n"
     ]
    },
    {
     "name": "stdout",
     "output_type": "stream",
     "text": [
      "Epoch number 4\n Current loss 0.9639430642127991\n\n"
     ]
    },
    {
     "name": "stdout",
     "output_type": "stream",
     "text": [
      "Epoch number 4\n Current loss 0.665052056312561\n\n"
     ]
    },
    {
     "name": "stdout",
     "output_type": "stream",
     "text": [
      "Epoch number 5\n Current loss 0.9470430612564087\n\n"
     ]
    },
    {
     "name": "stdout",
     "output_type": "stream",
     "text": [
      "Epoch number 5\n Current loss 0.5852394104003906\n\n"
     ]
    },
    {
     "name": "stdout",
     "output_type": "stream",
     "text": [
      "Epoch number 6\n Current loss 0.5209517478942871\n\n"
     ]
    },
    {
     "name": "stdout",
     "output_type": "stream",
     "text": [
      "Epoch number 6\n Current loss 0.5135200023651123\n\n"
     ]
    },
    {
     "name": "stdout",
     "output_type": "stream",
     "text": [
      "Epoch number 7\n Current loss 0.5075574517250061\n\n"
     ]
    },
    {
     "name": "stdout",
     "output_type": "stream",
     "text": [
      "Epoch number 7\n Current loss 0.6572474241256714\n\n"
     ]
    },
    {
     "name": "stdout",
     "output_type": "stream",
     "text": [
      "Epoch number 8\n Current loss 0.4432678818702698\n\n"
     ]
    },
    {
     "name": "stdout",
     "output_type": "stream",
     "text": [
      "Epoch number 8\n Current loss 0.3789101839065552\n\n"
     ]
    },
    {
     "name": "stdout",
     "output_type": "stream",
     "text": [
      "Epoch number 9\n Current loss 0.3367406129837036\n\n"
     ]
    },
    {
     "name": "stdout",
     "output_type": "stream",
     "text": [
      "Epoch number 9\n Current loss 0.37835076451301575\n\n"
     ]
    },
    {
     "name": "stdout",
     "output_type": "stream",
     "text": [
      "Epoch number 10\n Current loss 0.34630289673805237\n\n"
     ]
    },
    {
     "name": "stdout",
     "output_type": "stream",
     "text": [
      "Epoch number 10\n Current loss 0.3958145081996918\n\n"
     ]
    },
    {
     "name": "stdout",
     "output_type": "stream",
     "text": [
      "Epoch number 11\n Current loss 0.48639005422592163\n\n"
     ]
    },
    {
     "name": "stdout",
     "output_type": "stream",
     "text": [
      "Epoch number 11\n Current loss 0.2387213408946991\n\n"
     ]
    },
    {
     "name": "stdout",
     "output_type": "stream",
     "text": [
      "Epoch number 12\n Current loss 0.5467801094055176\n\n"
     ]
    },
    {
     "name": "stdout",
     "output_type": "stream",
     "text": [
      "Epoch number 12\n Current loss 0.31936949491500854\n\n"
     ]
    },
    {
     "name": "stdout",
     "output_type": "stream",
     "text": [
      "Epoch number 13\n Current loss 0.2560042142868042\n\n"
     ]
    },
    {
     "name": "stdout",
     "output_type": "stream",
     "text": [
      "Epoch number 13\n Current loss 0.33891773223876953\n\n"
     ]
    },
    {
     "name": "stdout",
     "output_type": "stream",
     "text": [
      "Epoch number 14\n Current loss 0.4071166217327118\n\n"
     ]
    },
    {
     "name": "stdout",
     "output_type": "stream",
     "text": [
      "Epoch number 14\n Current loss 0.6735343337059021\n\n"
     ]
    },
    {
     "name": "stdout",
     "output_type": "stream",
     "text": [
      "Epoch number 15\n Current loss 0.2321009337902069\n\n"
     ]
    },
    {
     "name": "stdout",
     "output_type": "stream",
     "text": [
      "Epoch number 15\n Current loss 0.31001320481300354\n\n"
     ]
    },
    {
     "name": "stdout",
     "output_type": "stream",
     "text": [
      "Epoch number 16\n Current loss 0.13969381153583527\n\n"
     ]
    },
    {
     "name": "stdout",
     "output_type": "stream",
     "text": [
      "Epoch number 16\n Current loss 0.16601163148880005\n\n"
     ]
    },
    {
     "name": "stdout",
     "output_type": "stream",
     "text": [
      "Epoch number 17\n Current loss 0.15891455113887787\n\n"
     ]
    },
    {
     "name": "stdout",
     "output_type": "stream",
     "text": [
      "Epoch number 17\n Current loss 0.18884290754795074\n\n"
     ]
    },
    {
     "name": "stdout",
     "output_type": "stream",
     "text": [
      "Epoch number 18\n Current loss 0.22526930272579193\n\n"
     ]
    },
    {
     "name": "stdout",
     "output_type": "stream",
     "text": [
      "Epoch number 18\n Current loss 0.12629300355911255\n\n"
     ]
    },
    {
     "name": "stdout",
     "output_type": "stream",
     "text": [
      "Epoch number 19\n Current loss 0.2201947420835495\n\n"
     ]
    },
    {
     "name": "stdout",
     "output_type": "stream",
     "text": [
      "Epoch number 19\n Current loss 0.15647763013839722\n\n"
     ]
    },
    {
     "name": "stdout",
     "output_type": "stream",
     "text": [
      "Epoch number 20\n Current loss 0.13479486107826233\n\n"
     ]
    },
    {
     "name": "stdout",
     "output_type": "stream",
     "text": [
      "Epoch number 20\n Current loss 0.15053589642047882\n\n"
     ]
    },
    {
     "name": "stdout",
     "output_type": "stream",
     "text": [
      "Epoch number 21\n Current loss 0.1211022213101387\n\n"
     ]
    },
    {
     "name": "stdout",
     "output_type": "stream",
     "text": [
      "Epoch number 21\n Current loss 0.1285729855298996\n\n"
     ]
    },
    {
     "name": "stdout",
     "output_type": "stream",
     "text": [
      "Epoch number 22\n Current loss 0.12347852438688278\n\n"
     ]
    },
    {
     "name": "stdout",
     "output_type": "stream",
     "text": [
      "Epoch number 22\n Current loss 0.23144540190696716\n\n"
     ]
    },
    {
     "name": "stdout",
     "output_type": "stream",
     "text": [
      "Epoch number 23\n Current loss 0.1674395501613617\n\n"
     ]
    },
    {
     "name": "stdout",
     "output_type": "stream",
     "text": [
      "Epoch number 23\n Current loss 0.08735459297895432\n\n"
     ]
    },
    {
     "name": "stdout",
     "output_type": "stream",
     "text": [
      "Epoch number 24\n Current loss 0.14331132173538208\n\n"
     ]
    },
    {
     "name": "stdout",
     "output_type": "stream",
     "text": [
      "Epoch number 24\n Current loss 0.10721129924058914\n\n"
     ]
    },
    {
     "name": "stdout",
     "output_type": "stream",
     "text": [
      "Epoch number 25\n Current loss 0.10827147215604782\n\n"
     ]
    },
    {
     "name": "stdout",
     "output_type": "stream",
     "text": [
      "Epoch number 25\n Current loss 0.08366356790065765\n\n"
     ]
    },
    {
     "name": "stdout",
     "output_type": "stream",
     "text": [
      "Epoch number 26\n Current loss 0.10591264814138412\n\n"
     ]
    },
    {
     "name": "stdout",
     "output_type": "stream",
     "text": [
      "Epoch number 26\n Current loss 0.077207051217556\n\n"
     ]
    },
    {
     "name": "stdout",
     "output_type": "stream",
     "text": [
      "Epoch number 27\n Current loss 0.0986216738820076\n\n"
     ]
    },
    {
     "name": "stdout",
     "output_type": "stream",
     "text": [
      "Epoch number 27\n Current loss 0.1338225156068802\n\n"
     ]
    },
    {
     "name": "stdout",
     "output_type": "stream",
     "text": [
      "Epoch number 28\n Current loss 0.05719172954559326\n\n"
     ]
    },
    {
     "name": "stdout",
     "output_type": "stream",
     "text": [
      "Epoch number 28\n Current loss 0.11716796457767487\n\n"
     ]
    },
    {
     "name": "stdout",
     "output_type": "stream",
     "text": [
      "Epoch number 29\n Current loss 0.07635358721017838\n\n"
     ]
    },
    {
     "name": "stdout",
     "output_type": "stream",
     "text": [
      "Epoch number 29\n Current loss 0.10496609658002853\n\n"
     ]
    },
    {
     "name": "stdout",
     "output_type": "stream",
     "text": [
      "Epoch number 30\n Current loss 0.05859295278787613\n\n"
     ]
    },
    {
     "name": "stdout",
     "output_type": "stream",
     "text": [
      "Epoch number 30\n Current loss 0.059889767318964005\n\n"
     ]
    },
    {
     "name": "stdout",
     "output_type": "stream",
     "text": [
      "Epoch number 31\n Current loss 0.057687826454639435\n\n"
     ]
    },
    {
     "name": "stdout",
     "output_type": "stream",
     "text": [
      "Epoch number 31\n Current loss 0.07695925980806351\n\n"
     ]
    },
    {
     "name": "stdout",
     "output_type": "stream",
     "text": [
      "Epoch number 32\n Current loss 0.08968103677034378\n\n"
     ]
    },
    {
     "name": "stdout",
     "output_type": "stream",
     "text": [
      "Epoch number 32\n Current loss 0.058583635836839676\n\n"
     ]
    },
    {
     "name": "stdout",
     "output_type": "stream",
     "text": [
      "Epoch number 33\n Current loss 0.05952578783035278\n\n"
     ]
    },
    {
     "name": "stdout",
     "output_type": "stream",
     "text": [
      "Epoch number 33\n Current loss 0.07817500084638596\n\n"
     ]
    },
    {
     "name": "stdout",
     "output_type": "stream",
     "text": [
      "Epoch number 34\n Current loss 0.06114093214273453\n\n"
     ]
    },
    {
     "name": "stdout",
     "output_type": "stream",
     "text": [
      "Epoch number 34\n Current loss 0.09138932824134827\n\n"
     ]
    },
    {
     "name": "stdout",
     "output_type": "stream",
     "text": [
      "Epoch number 35\n Current loss 0.07745693624019623\n\n"
     ]
    },
    {
     "name": "stdout",
     "output_type": "stream",
     "text": [
      "Epoch number 35\n Current loss 0.12912213802337646\n\n"
     ]
    },
    {
     "name": "stdout",
     "output_type": "stream",
     "text": [
      "Epoch number 36\n Current loss 0.08849046379327774\n\n"
     ]
    },
    {
     "name": "stdout",
     "output_type": "stream",
     "text": [
      "Epoch number 36\n Current loss 0.09067502617835999\n\n"
     ]
    },
    {
     "name": "stdout",
     "output_type": "stream",
     "text": [
      "Epoch number 37\n Current loss 0.07937205582857132\n\n"
     ]
    },
    {
     "name": "stdout",
     "output_type": "stream",
     "text": [
      "Epoch number 37\n Current loss 0.08527721464633942\n\n"
     ]
    },
    {
     "name": "stdout",
     "output_type": "stream",
     "text": [
      "Epoch number 38\n Current loss 0.06660300493240356\n\n"
     ]
    },
    {
     "name": "stdout",
     "output_type": "stream",
     "text": [
      "Epoch number 38\n Current loss 0.05243240296840668\n\n"
     ]
    },
    {
     "name": "stdout",
     "output_type": "stream",
     "text": [
      "Epoch number 39\n Current loss 0.03520325571298599\n\n"
     ]
    },
    {
     "name": "stdout",
     "output_type": "stream",
     "text": [
      "Epoch number 39\n Current loss 0.057645708322525024\n\n"
     ]
    },
    {
     "name": "stdout",
     "output_type": "stream",
     "text": [
      "Epoch number 40\n Current loss 0.06712682545185089\n\n"
     ]
    },
    {
     "name": "stdout",
     "output_type": "stream",
     "text": [
      "Epoch number 40\n Current loss 0.042648378759622574\n\n"
     ]
    },
    {
     "name": "stdout",
     "output_type": "stream",
     "text": [
      "Epoch number 41\n Current loss 0.0605342835187912\n\n"
     ]
    },
    {
     "name": "stdout",
     "output_type": "stream",
     "text": [
      "Epoch number 41\n Current loss 0.043777309358119965\n\n"
     ]
    },
    {
     "name": "stdout",
     "output_type": "stream",
     "text": [
      "Epoch number 42\n Current loss 0.061426591128110886\n\n"
     ]
    },
    {
     "name": "stdout",
     "output_type": "stream",
     "text": [
      "Epoch number 42\n Current loss 0.06103581562638283\n\n"
     ]
    },
    {
     "name": "stdout",
     "output_type": "stream",
     "text": [
      "Epoch number 43\n Current loss 0.05824151262640953\n\n"
     ]
    },
    {
     "name": "stdout",
     "output_type": "stream",
     "text": [
      "Epoch number 43\n Current loss 0.039162036031484604\n\n"
     ]
    },
    {
     "name": "stdout",
     "output_type": "stream",
     "text": [
      "Epoch number 44\n Current loss 0.06898266077041626\n\n"
     ]
    },
    {
     "name": "stdout",
     "output_type": "stream",
     "text": [
      "Epoch number 44\n Current loss 0.07238079607486725\n\n"
     ]
    },
    {
     "name": "stdout",
     "output_type": "stream",
     "text": [
      "Epoch number 45\n Current loss 0.047893330454826355\n\n"
     ]
    },
    {
     "name": "stdout",
     "output_type": "stream",
     "text": [
      "Epoch number 45\n Current loss 0.078829824924469\n\n"
     ]
    },
    {
     "name": "stdout",
     "output_type": "stream",
     "text": [
      "Epoch number 46\n Current loss 0.055315420031547546\n\n"
     ]
    },
    {
     "name": "stdout",
     "output_type": "stream",
     "text": [
      "Epoch number 46\n Current loss 0.04580307379364967\n\n"
     ]
    },
    {
     "name": "stdout",
     "output_type": "stream",
     "text": [
      "Epoch number 47\n Current loss 0.04292641952633858\n\n"
     ]
    },
    {
     "name": "stdout",
     "output_type": "stream",
     "text": [
      "Epoch number 47\n Current loss 0.04450526088476181\n\n"
     ]
    },
    {
     "name": "stdout",
     "output_type": "stream",
     "text": [
      "Epoch number 48\n Current loss 0.026399217545986176\n\n"
     ]
    },
    {
     "name": "stdout",
     "output_type": "stream",
     "text": [
      "Epoch number 48\n Current loss 0.06717096269130707\n\n"
     ]
    },
    {
     "name": "stdout",
     "output_type": "stream",
     "text": [
      "Epoch number 49\n Current loss 0.10041235387325287\n\n"
     ]
    },
    {
     "name": "stdout",
     "output_type": "stream",
     "text": [
      "Epoch number 49\n Current loss 0.05316989868879318\n\n"
     ]
    },
    {
     "data": {
      "image/png": "[encoded data removed]",
      "text/plain": [
       "<Figure size 432x288 with 1 Axes>"
      ]
     },
     "metadata": {},
     "output_type": "display_data"
    }
   ],
   "source": [
    "# Contrastive\n",
    "counter_contrastive = []\n",
    "loss_history_contrastive = [] \n",
    "iteration_number_contrastive = 0\n",
    "\n",
    "\n",
    "for epoch in range(0,Config.train_number_epochs):\n",
    "    for i, data in enumerate(train_dataloader_contrastive,0):\n",
    "        img0, img1 , label = data\n",
    "        #img0, img1 , label = img0.cuda(), img1.cuda() , label.cuda()\n",
    "\n",
    "        optimizer.zero_grad()\n",
    "        output1,output2 = net_contrastive(img0,img1)\n",
    "        loss_contrastive = criterion_contrastive(output1,output2,label)\n",
    "        loss_contrastive.backward()\n",
    "        optimizer.step()\n",
    "        if i %10 == 0 :\n",
    "            print(\"Epoch number {}\\n Current loss {}\\n\".format(epoch,loss_contrastive.item()))\n",
    "            iteration_number_contrastive +=10\n",
    "            counter_contrastive.append(iteration_number_contrastive)\n",
    "            loss_history_contrastive.append(loss_contrastive.item())\n",
    "show_plot(counter_contrastive,loss_history_contrastive)"
   ]
  },
  {
   "cell_type": "code",
   "execution_count": 18,
   "metadata": {},
   "outputs": [],
   "source": [
    "## Testing\n",
    "\n",
    "#The last 100 subjects were held out from the training, and will be used to test. \n",
    "#The Distance between each image pair denotes the degree of similarity the model found between the two images. \n",
    "#Less means it found more similar, while higher values indicate it found them to be dissimilar."
   ]
  },
  {
   "cell_type": "code",
   "execution_count": 16,
   "metadata": {
    "run_control": {
     "marked": true
    },
    "scrolled": false
   },
   "outputs": [
    {
     "name": "stdout",
     "output_type": "stream",
     "text": [
      "Testing on  200  pictures\n"
     ]
    },
    {
     "name": "stdout",
     "output_type": "stream",
     "text": [
      "Total pairs: 150\nSame class pairs 47\nNot same class pairs 103\nTrue positive 33\nFalse positive 50\nTrue negative 53\nFalse negative 14\nTotal correct: 86\nTotal wrong: 64\nSame accuracy: 0.7021276595744681\nNot same accuracy: 0.5145631067961165\nSame avg dissimilarity 6.212579757609266\nNot same avg dissimilarity 7.620899864770834\n"
     ]
    }
   ],
   "source": [
    "folder_dataset_test = dset.ImageFolder(root=Config.testing_dir+\"/\")\n",
    "index = random.randint(0,len(folder_dataset_test.imgs))\n",
    "siamese_dataset = SiameseNetworkTestingDataset(imageFolderDataset=folder_dataset_test,\n",
    "                                        transform=transforms.Compose([transforms.Resize((100,100)),\n",
    "                                                                      transforms.ToTensor()\n",
    "                                                                      ])\n",
    "                                       ,should_invert=False)\n",
    "\n",
    "test_dataloader = DataLoader(siamese_dataset,num_workers=6,batch_size=1,shuffle=False)\n",
    "dataiter = iter(test_dataloader)\n",
    "\n",
    "testingAmount = len(folder_dataset_test.imgs)\n",
    "print(\"Testing on \", testingAmount, \" pictures\")\n",
    "threshold = 7\n",
    "\n",
    "true_positive = 0\n",
    "false_positive = 0\n",
    "false_negative = 0\n",
    "true_negative = 0\n",
    "skipped=0\n",
    "samepic=0\n",
    "notsamepic=0\n",
    "sameavg=0\n",
    "notsameavg=0\n",
    "\n",
    "for i in range(testingAmount):\n",
    "    x0,x1,label2 = next(dataiter)\n",
    "    concatenated = torch.cat((x0,x1),0)\n",
    "    #print(\"label2\",label2)\n",
    "    #print(\"label2\",label2[0][0].numpy())\n",
    "    text = \"Same\"\n",
    "    same = 1\n",
    "    if label2[0][0].numpy() == 1.0:\n",
    "        text = \"Not same\"\n",
    "        same = 0\n",
    "    \n",
    "    # Use contrastive net\n",
    "    #output1,output2 = net_contrastive(Variable(x0),Variable(x1))\n",
    "    # Use triplet net\n",
    "    output1,output2,_ = net_triplet(Variable(x0), Variable(x1), Variable(x1))\n",
    "    \n",
    "    euclidean_distance = F.pairwise_distance(output1, output2)\n",
    "    euclidean_distance_float = float(euclidean_distance.item())\n",
    "    skip = 0\n",
    "    if (euclidean_distance_float < 0.0001):\n",
    "        skip=1\n",
    "    elif (euclidean_distance_float > threshold):\n",
    "        if same:\n",
    "           false_negative+=1\n",
    "        else:\n",
    "            true_negative+=1\n",
    "    elif (euclidean_distance_float < threshold):\n",
    "        if same:\n",
    "            true_positive+=1\n",
    "        else:\n",
    "            false_positive+=1\n",
    "    if skip:\n",
    "        skipped+=1\n",
    "    else:\n",
    "        #imshow(torchvision.utils.make_grid(concatenated),text+' - Dissimilarity: {:.2f}'.format(euclidean_distance.item())+\" \")\n",
    "        \n",
    "        if same:\n",
    "            sameavg+=euclidean_distance_float\n",
    "            samepic+=1\n",
    "        else:\n",
    "            notsameavg+=euclidean_distance_float\n",
    "            notsamepic+=1\n",
    "\n",
    "print(\"Total pairs:\", true_positive+true_negative+false_positive+false_negative)\n",
    "print(\"Same class pairs\", samepic)\n",
    "print(\"Not same class pairs\", notsamepic)\n",
    "print(\"True positive\", true_positive)\n",
    "print(\"False positive\", false_positive)\n",
    "print(\"True negative\", true_negative)\n",
    "print(\"False negative\", false_negative)\n",
    "print(\"Total correct:\", true_positive+true_negative)\n",
    "print(\"Total wrong:\", false_positive+false_negative)\n",
    "#print(\"Accuracy:\", (true_positive+true_negative)/(true_positive+true_negative+false_positive+false_negative))\n",
    "print(\"Same accuracy:\", true_positive/(true_positive+false_negative))\n",
    "print(\"Not same accuracy:\", true_negative/(true_negative+false_positive))\n",
    "print(\"Same avg dissimilarity\", sameavg/samepic)\n",
    "print(\"Not same avg dissimilarity\", notsameavg/notsamepic)"
   ]
  },
  {
   "cell_type": "code",
   "execution_count": 21,
   "metadata": {},
   "outputs": [
    {
     "name": "stdout",
     "output_type": "stream",
     "text": [
      "SiameseNetworks/Siamese-fish/wrassefish/body/r/testing1\n"
     ]
    },
    {
     "name": "stdout",
     "output_type": "stream",
     "text": [
      "Correct: 8 / 20\nSiameseNetworks/Siamese-fish/wrassefish/body/r/testing2\n"
     ]
    },
    {
     "name": "stdout",
     "output_type": "stream",
     "text": [
      "Correct: 0 / 20\nSiameseNetworks/Siamese-fish/wrassefish/body/r/testing3\n"
     ]
    },
    {
     "name": "stdout",
     "output_type": "stream",
     "text": [
      "Correct: 3 / 20\nSiameseNetworks/Siamese-fish/wrassefish/body/r/testing4\n"
     ]
    },
    {
     "name": "stdout",
     "output_type": "stream",
     "text": [
      "Correct: 5 / 20\nSiameseNetworks/Siamese-fish/wrassefish/body/r/testing5\n"
     ]
    },
    {
     "name": "stdout",
     "output_type": "stream",
     "text": [
      "Correct: 2 / 20\nSiameseNetworks/Siamese-fish/wrassefish/body/r/testing6\n"
     ]
    },
    {
     "name": "stdout",
     "output_type": "stream",
     "text": [
      "Correct: 2 / 20\nSiameseNetworks/Siamese-fish/wrassefish/body/r/testing7\n"
     ]
    },
    {
     "name": "stdout",
     "output_type": "stream",
     "text": [
      "Correct: 2 / 20\nSiameseNetworks/Siamese-fish/wrassefish/body/r/testing8\n"
     ]
    },
    {
     "name": "stdout",
     "output_type": "stream",
     "text": [
      "Correct: 5 / 20\nSiameseNetworks/Siamese-fish/wrassefish/body/r/testing9\n"
     ]
    },
    {
     "name": "stdout",
     "output_type": "stream",
     "text": [
      "Correct: 7 / 20\nSiameseNetworks/Siamese-fish/wrassefish/body/r/testing10\n"
     ]
    },
    {
     "name": "stdout",
     "output_type": "stream",
     "text": [
      "Correct: 4 / 20\n"
     ]
    }
   ],
   "source": [
    "\n",
    "def one_shot(dataset_folder):\n",
    "    testingAmount = len(dataset_folder.imgs)\n",
    "    correct = 0\n",
    "    wrong = 0\n",
    "    for i in range(testingAmount):\n",
    "        siamese_dataset = SiameseNetworkValidationDataset(imageFolderDataset=dataset_folder,x0Index=i,\n",
    "                                                transform=transforms.Compose([transforms.Resize((100,100)),\n",
    "                                                                              transforms.ToTensor()\n",
    "                                                                              ])\n",
    "                                               ,should_invert=False)\n",
    "        \n",
    "        test_dataloader = DataLoader(siamese_dataset,num_workers=6,batch_size=1,shuffle=True)\n",
    "        dataiter = iter(test_dataloader)\n",
    "   \n",
    "        skipped=0        \n",
    "        samepic = 0\n",
    "        notsamepic = 0\n",
    "        low = [\"\",10]\n",
    "        \n",
    "        #for j in range (0):\n",
    "        for j in range(testingAmount):\n",
    "            x0,x1,label2 = next(dataiter)\n",
    "            #output1,output2 = net_contrastive(Variable(x0),Variable(x1))\n",
    "            output1,output2,_ = net_triplet(Variable(x0), Variable(x1), Variable(x1))\n",
    "            euclidean_distance = F.pairwise_distance(output1, output2)\n",
    "            euclidean_distance_float = float(euclidean_distance.item())\n",
    "            \n",
    "            if (euclidean_distance_float < 0.00001):\n",
    "                skipped+=1\n",
    "                #print(\"Skipping identical pair\")\n",
    "                continue\n",
    "            \n",
    "            text = \"Same\"\n",
    "            same = 1\n",
    "            if label2[0][0].numpy() == 1.0:\n",
    "                text = \"Not same\"\n",
    "                same = 0\n",
    "                notsamepic+=1\n",
    "            else:\n",
    "                samepic+=1\n",
    "                \n",
    "            if euclidean_distance_float < low[1]:\n",
    "                low = [text, euclidean_distance_float]\n",
    "            \n",
    "            #if same: # or euclidean_distance_float<0.3:\n",
    "                #concatenated = torch.cat((x0,x1),0)\n",
    "                #imshow(torchvision.utils.make_grid(concatenated),text+' - Dissimilarity: {:.2f}'.format(euclidean_distance.item())+\" \")\n",
    "            \n",
    "        #print(\"same - not same - \", samepic, notsamepic)\n",
    "        #print(\"Lowest:\", low)\n",
    "        if low[0] == \"Same\":\n",
    "            correct+=1\n",
    "        else:\n",
    "            wrong+=1\n",
    "    \n",
    "    print(\"Correct:\", correct,\"/\",correct+wrong)\n",
    "\n",
    "# Perform one-shot classification on 10 groups of classes\n",
    "for i in range(10):\n",
    "    print(Config.testing_dir+str(i+1))\n",
    "    folder_dataset_test = dset.ImageFolder(root=Config.testing_dir+str(i+1))\n",
    "    one_shot(folder_dataset_test)\n"
   ]
  }
 ],
 "metadata": {
  "hide_input": false,
  "kernelspec": {
   "display_name": "Python 3",
   "language": "python",
   "name": "python3"
  },
  "language_info": {
   "codemirror_mode": {
    "name": "ipython",
    "version": 3
   },
   "file_extension": ".py",
   "mimetype": "text/x-python",
   "name": "python",
   "nbconvert_exporter": "python",
   "pygments_lexer": "ipython3",
   "version": "3.6.8-final"
  }
 },
 "nbformat": 4,
 "nbformat_minor": 2
}